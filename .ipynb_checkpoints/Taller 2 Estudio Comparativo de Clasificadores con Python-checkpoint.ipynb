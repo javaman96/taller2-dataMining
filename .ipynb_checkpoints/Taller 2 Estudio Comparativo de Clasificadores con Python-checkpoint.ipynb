{
 "cells": [
  {
   "cell_type": "markdown",
   "metadata": {},
   "source": [
    "<img src=\"escudo_utfsm.gif\" style=\"float:right;height:100px\">\n",
    "<img src=\"IsotipoDIisocolor.png\" style=\"float:left;height:100px\">\n",
    "<center>\n",
    "    <h1> Taller 2: Estudio Comparativo de Clasificadores con Python </h1>\n",
    "    <h1> Sebastián Acevedo /  </h1>\n",
    "    <h1> Sebastián Sánchez / 201504022-2 </h1>\n",
    "    <h2> Fecha: Junio 2019 </h2>\n",
    "</center>    "
   ]
  },
  {
   "cell_type": "markdown",
   "metadata": {},
   "source": [
    "---\n",
    "## Librerías y modulos"
   ]
  },
  {
   "cell_type": "code",
   "execution_count": 2,
   "metadata": {},
   "outputs": [],
   "source": [
    "import numpy as np\n",
    "import pandas as pd\n",
    "from scipy import stats, integrate\n",
    "import matplotlib.pyplot as plt\n",
    "from sklearn.discriminant_analysis import LinearDiscriminantAnalysis, QuadraticDiscriminantAnalysis\n",
    "from sklearn.neighbors import KNeighborsClassifier\n",
    "from sklearn.svm import SVC\n",
    "from sklearn import tree\n",
    "from sklearn.ensemble import RandomForestClassifier\n",
    "from sklearn.neural_network import MLPClassifier\n",
    "from sklearn.model_selection import train_test_split \n",
    "from sklearn.preprocessing import StandardScaler, OrdinalEncoder\n",
    "from sklearn.metrics import accuracy_score, classification_report, confusion_matrix, roc_auc_score, roc_curve\n",
    "import seaborn as sns"
   ]
  },
  {
   "cell_type": "markdown",
   "metadata": {},
   "source": [
    "## Descripción de conjunto de datos"
   ]
  },
  {
   "cell_type": "code",
   "execution_count": 3,
   "metadata": {
    "scrolled": true
   },
   "outputs": [
    {
     "data": {
      "text/html": [
       "<div>\n",
       "<style scoped>\n",
       "    .dataframe tbody tr th:only-of-type {\n",
       "        vertical-align: middle;\n",
       "    }\n",
       "\n",
       "    .dataframe tbody tr th {\n",
       "        vertical-align: top;\n",
       "    }\n",
       "\n",
       "    .dataframe thead th {\n",
       "        text-align: right;\n",
       "    }\n",
       "</style>\n",
       "<table border=\"1\" class=\"dataframe\">\n",
       "  <thead>\n",
       "    <tr style=\"text-align: right;\">\n",
       "      <th></th>\n",
       "      <th>age</th>\n",
       "      <th>job</th>\n",
       "      <th>marital</th>\n",
       "      <th>education</th>\n",
       "      <th>default</th>\n",
       "      <th>housing</th>\n",
       "      <th>loan</th>\n",
       "      <th>contact</th>\n",
       "      <th>month</th>\n",
       "      <th>day_of_week</th>\n",
       "      <th>...</th>\n",
       "      <th>campaign</th>\n",
       "      <th>pdays</th>\n",
       "      <th>previous</th>\n",
       "      <th>poutcome</th>\n",
       "      <th>emp.var.rate</th>\n",
       "      <th>cons.price.idx</th>\n",
       "      <th>cons.conf.idx</th>\n",
       "      <th>euribor3m</th>\n",
       "      <th>nr.employed</th>\n",
       "      <th>y</th>\n",
       "    </tr>\n",
       "  </thead>\n",
       "  <tbody>\n",
       "    <tr>\n",
       "      <th>0</th>\n",
       "      <td>30</td>\n",
       "      <td>blue-collar</td>\n",
       "      <td>married</td>\n",
       "      <td>basic.9y</td>\n",
       "      <td>no</td>\n",
       "      <td>yes</td>\n",
       "      <td>no</td>\n",
       "      <td>cellular</td>\n",
       "      <td>may</td>\n",
       "      <td>fri</td>\n",
       "      <td>...</td>\n",
       "      <td>2</td>\n",
       "      <td>999</td>\n",
       "      <td>0</td>\n",
       "      <td>nonexistent</td>\n",
       "      <td>-1.8</td>\n",
       "      <td>92.893</td>\n",
       "      <td>-46.2</td>\n",
       "      <td>1.313</td>\n",
       "      <td>5099.1</td>\n",
       "      <td>no</td>\n",
       "    </tr>\n",
       "    <tr>\n",
       "      <th>1</th>\n",
       "      <td>39</td>\n",
       "      <td>services</td>\n",
       "      <td>single</td>\n",
       "      <td>high.school</td>\n",
       "      <td>no</td>\n",
       "      <td>no</td>\n",
       "      <td>no</td>\n",
       "      <td>telephone</td>\n",
       "      <td>may</td>\n",
       "      <td>fri</td>\n",
       "      <td>...</td>\n",
       "      <td>4</td>\n",
       "      <td>999</td>\n",
       "      <td>0</td>\n",
       "      <td>nonexistent</td>\n",
       "      <td>1.1</td>\n",
       "      <td>93.994</td>\n",
       "      <td>-36.4</td>\n",
       "      <td>4.855</td>\n",
       "      <td>5191.0</td>\n",
       "      <td>no</td>\n",
       "    </tr>\n",
       "    <tr>\n",
       "      <th>2</th>\n",
       "      <td>25</td>\n",
       "      <td>services</td>\n",
       "      <td>married</td>\n",
       "      <td>high.school</td>\n",
       "      <td>no</td>\n",
       "      <td>yes</td>\n",
       "      <td>no</td>\n",
       "      <td>telephone</td>\n",
       "      <td>jun</td>\n",
       "      <td>wed</td>\n",
       "      <td>...</td>\n",
       "      <td>1</td>\n",
       "      <td>999</td>\n",
       "      <td>0</td>\n",
       "      <td>nonexistent</td>\n",
       "      <td>1.4</td>\n",
       "      <td>94.465</td>\n",
       "      <td>-41.8</td>\n",
       "      <td>4.962</td>\n",
       "      <td>5228.1</td>\n",
       "      <td>no</td>\n",
       "    </tr>\n",
       "    <tr>\n",
       "      <th>3</th>\n",
       "      <td>38</td>\n",
       "      <td>services</td>\n",
       "      <td>married</td>\n",
       "      <td>basic.9y</td>\n",
       "      <td>no</td>\n",
       "      <td>unknown</td>\n",
       "      <td>unknown</td>\n",
       "      <td>telephone</td>\n",
       "      <td>jun</td>\n",
       "      <td>fri</td>\n",
       "      <td>...</td>\n",
       "      <td>3</td>\n",
       "      <td>999</td>\n",
       "      <td>0</td>\n",
       "      <td>nonexistent</td>\n",
       "      <td>1.4</td>\n",
       "      <td>94.465</td>\n",
       "      <td>-41.8</td>\n",
       "      <td>4.959</td>\n",
       "      <td>5228.1</td>\n",
       "      <td>no</td>\n",
       "    </tr>\n",
       "    <tr>\n",
       "      <th>4</th>\n",
       "      <td>47</td>\n",
       "      <td>admin.</td>\n",
       "      <td>married</td>\n",
       "      <td>university.degree</td>\n",
       "      <td>no</td>\n",
       "      <td>yes</td>\n",
       "      <td>no</td>\n",
       "      <td>cellular</td>\n",
       "      <td>nov</td>\n",
       "      <td>mon</td>\n",
       "      <td>...</td>\n",
       "      <td>1</td>\n",
       "      <td>999</td>\n",
       "      <td>0</td>\n",
       "      <td>nonexistent</td>\n",
       "      <td>-0.1</td>\n",
       "      <td>93.200</td>\n",
       "      <td>-42.0</td>\n",
       "      <td>4.191</td>\n",
       "      <td>5195.8</td>\n",
       "      <td>no</td>\n",
       "    </tr>\n",
       "  </tbody>\n",
       "</table>\n",
       "<p>5 rows × 21 columns</p>\n",
       "</div>"
      ],
      "text/plain": [
       "   age          job  marital          education default  housing     loan  \\\n",
       "0   30  blue-collar  married           basic.9y      no      yes       no   \n",
       "1   39     services   single        high.school      no       no       no   \n",
       "2   25     services  married        high.school      no      yes       no   \n",
       "3   38     services  married           basic.9y      no  unknown  unknown   \n",
       "4   47       admin.  married  university.degree      no      yes       no   \n",
       "\n",
       "     contact month day_of_week  ...  campaign  pdays  previous     poutcome  \\\n",
       "0   cellular   may         fri  ...         2    999         0  nonexistent   \n",
       "1  telephone   may         fri  ...         4    999         0  nonexistent   \n",
       "2  telephone   jun         wed  ...         1    999         0  nonexistent   \n",
       "3  telephone   jun         fri  ...         3    999         0  nonexistent   \n",
       "4   cellular   nov         mon  ...         1    999         0  nonexistent   \n",
       "\n",
       "  emp.var.rate  cons.price.idx  cons.conf.idx  euribor3m  nr.employed   y  \n",
       "0         -1.8          92.893          -46.2      1.313       5099.1  no  \n",
       "1          1.1          93.994          -36.4      4.855       5191.0  no  \n",
       "2          1.4          94.465          -41.8      4.962       5228.1  no  \n",
       "3          1.4          94.465          -41.8      4.959       5228.1  no  \n",
       "4         -0.1          93.200          -42.0      4.191       5195.8  no  \n",
       "\n",
       "[5 rows x 21 columns]"
      ]
     },
     "execution_count": 3,
     "metadata": {},
     "output_type": "execute_result"
    }
   ],
   "source": [
    "# Leer datos\n",
    "data = pd.read_csv(\"bank-additional.csv\",sep=\";\") \n",
    "data.head()"
   ]
  },
  {
   "cell_type": "markdown",
   "metadata": {},
   "source": [
    "Estos datos están relacionados con campañas de marketing telefónico de un banco portugués. El objetivo de clasificación es predecir si el cliente se suscribirá al servicio ofrecido por el banco."
   ]
  },
  {
   "cell_type": "markdown",
   "metadata": {},
   "source": [
    "### Descripción de los datos\n",
    "|Atributo           |Descripcion\n",
    "|-----------------|-------------------------------------------------------------------------------------------------------------------------------------------------------------------------|\n",
    "| age             | edad (numérico)    \n",
    "| job             | trabajo (categórico: 'admin.','blue-collar','entrepreneur','housemaid','management','retired','self-employed','services','student','technician','unemployed','unknown') |\n",
    "| marital         | estado civil: (categórico: 'divorced','married','single','unknown'; note: 'divorced' means divorced or widowed)                                                         |\n",
    "| education       | educación (categórico: 'basic.4y','basic.6y','basic.9y','high.school','illiterate','professional.course','university.degree','unknown')                                 |\n",
    "| default         | si tiene un credito normal (categórico: 'no','yes','unknown')                                                                                                           |\n",
    "| housing         | si tiene una deuda hipotecaria (categórico: 'no','yes','unknown')                                                                                                       |\n",
    "| loan            | si tiene una deuda personal (categórico: 'no','yes','unknown')                                                                                                          |\n",
    "| contact         | tipo de comunicación (categorico: 'cellular','telephone')                                                                                                               |\n",
    "| mes             | mes de la llamada (categorico: 'jan', 'feb', 'mar', ..., 'nov', 'dec')                                                                                                  |\n",
    "| day_of_the_week | dia de la llamada (categorico: 'mon','tue','wed','thu','fri')                                                                                                           |\n",
    "| duration        | duración de la llamada (numerico)                                                                                                                                       |\n",
    "| campaign        | numero de llamadas (numerico)                                                                                                                                           |\n",
    "| pdays           | dias entre llamadas (numerico)                                                                                                                                          |\n",
    "| previous        | numero de llamadas de campañas anteriores (numerico)                                                                                                                    |\n",
    "| poutcome        | resultado de las campañas anteriores (categorico: 'failure','nonexistent','success')                                                                                    |\n",
    "| emp.var.rate    | indicador de empleabilidad (numerico)                                                                                                                                   |\n",
    "| cons.price.idx  | indice de precio de consumo (numerico)                                                                                                                                  |\n",
    "| cons.cof.idx    | indice de confianza de consumo (numerico)                                                                                                                               |\n",
    "| euribor3m       | indice de euribor (numerico)                                                                                                                                            |\n",
    "| nr.employees    | numero de empleos (numerico)                                                                                                                                            |\n",
    "| y               | variable output, si el cliente se suscribe o no (binary: 'yes','no')                                                                                                    |"
   ]
  },
  {
   "cell_type": "markdown",
   "metadata": {},
   "source": [
    "---\n",
    "## Discretización de datos categóricos y conjuntos de entrenamiento / testing \n"
   ]
  },
  {
   "cell_type": "code",
   "execution_count": 4,
   "metadata": {},
   "outputs": [],
   "source": [
    "# Transformar datos categóricos\n",
    "\n",
    "enc=OrdinalEncoder()\n",
    "enc.fit(data)\n",
    "OrdinalEncoder(categories='auto')\n",
    "data=enc.transform(data)"
   ]
  },
  {
   "cell_type": "code",
   "execution_count": 5,
   "metadata": {},
   "outputs": [],
   "source": [
    "# Dividir datos en entrenamiento y testeo\n",
    "y = data[:,-1]\n",
    "X = data[:,:-1]\n",
    "X_entrenamiento, X_test, y_entrenamiento, y_test = train_test_split(X, y, test_size = 0.3, random_state=0)"
   ]
  },
  {
   "cell_type": "code",
   "execution_count": 47,
   "metadata": {},
   "outputs": [],
   "source": [
    "class Desempeño_Matriz_Curva:\n",
    "    \n",
    "    # Esta clase contiene los métodos\n",
    "    # necesarios para obtener\n",
    "    # el desempeño del clasificador,\n",
    "    # la matriz de confusión\n",
    "    # La curva ROC y su área AUC\n",
    "    \n",
    "    \n",
    "    # Recibe un clasificador\n",
    "    def prediccion(self, clsfr):\n",
    "        clsfr.fit(X_entrenamiento, y_entrenamiento)\n",
    "        \n",
    "        # Retorna prediccion\n",
    "        return clsfr.predict(X_test)\n",
    "    \n",
    "    # Recibe prediccion\n",
    "    def desempeño(self, y_pred):\n",
    "        \n",
    "        # El recall de la clase positiva es sensitivity\n",
    "        # El recall de la clase negativa es specificity\n",
    "        target_names = ['no', 'yes']\n",
    "        report = [classification_report(y_test, y_pred, target_names=target_names)\n",
    "                  , accuracy_score(y_test, y_pred)\n",
    "                  , 1-accuracy_score(y_test, y_pred)\n",
    "                 ]\n",
    "        \n",
    "        # Retorna reporte de desempeño\n",
    "        return report\n",
    "    \n",
    "    # Recibe prediccion\n",
    "    def confusion_mtrx(self, y_pred):\n",
    "        \n",
    "        conf_map = confusion_matrix(y_test, y_pred), sns.heatmap(confusion_matrix(y_test, y_pred))\n",
    "        \n",
    "        # Retorna matriz y heatmap\n",
    "        return conf_map\n",
    "    def AUC_ROC(self, y_pred):\n",
    "        \n",
    "        ## Curva ROC (tpr: true positive rates, fpr: false positive rates)\n",
    "        ## AUC (Area Under Curve)\n",
    "\n",
    "        fpr, tpr, _ = roc_curve(y_test, y_predKN)\n",
    "\n",
    "        plt.figure()\n",
    "        lw = 2\n",
    "        plt.plot(fpr, tpr, color='darkorange',\n",
    "                 lw=lw, label='ROC curve')\n",
    "        plt.plot([0, 1], [0, 1], color='navy', lw=lw, linestyle='--')\n",
    "        plt.xlim([0.0, 1.0])\n",
    "        plt.ylim([0.0, 1.05])\n",
    "        plt.xlabel('False Positive Rate')\n",
    "        plt.ylabel('True Positive Rate')\n",
    "        plt.title('Receiver operating characteristic example')\n",
    "        plt.legend(loc=\"lower right\")\n",
    "        plt.show()\n",
    "\n",
    "        print(roc_auc_score(y_test, y_predKN))\n",
    "    "
   ]
  },
  {
   "cell_type": "code",
   "execution_count": 48,
   "metadata": {},
   "outputs": [],
   "source": [
    "clsfier = Desempeño_Matriz_Curva()"
   ]
  },
  {
   "cell_type": "markdown",
   "metadata": {},
   "source": [
    "---\n",
    "## Clasificador K-Nearest Neighbors"
   ]
  },
  {
   "cell_type": "code",
   "execution_count": 15,
   "metadata": {},
   "outputs": [],
   "source": [
    "neigh = KNeighborsClassifier(n_neighbors=3)\n",
    "y_predKN = clsfier.prediccion(neigh);"
   ]
  },
  {
   "cell_type": "markdown",
   "metadata": {},
   "source": [
    "### Desempeño del clasificador"
   ]
  },
  {
   "cell_type": "code",
   "execution_count": 20,
   "metadata": {
    "scrolled": true
   },
   "outputs": [
    {
     "name": "stdout",
     "output_type": "stream",
     "text": [
      "0.8737864077669902\n",
      "0.12621359223300976 \n",
      "\n",
      "              precision    recall  f1-score   support\n",
      "\n",
      "          no       0.93      0.93      0.93      1114\n",
      "         yes       0.35      0.33      0.34       122\n",
      "\n",
      "   micro avg       0.87      0.87      0.87      1236\n",
      "   macro avg       0.64      0.63      0.63      1236\n",
      "weighted avg       0.87      0.87      0.87      1236\n",
      "\n"
     ]
    }
   ],
   "source": [
    "print(clsfier.desempeño(y_predKN)[1])\n",
    "print(clsfier.desempeño(y_predKN)[2], \"\\n\")\n",
    "print(clsfier.desempeño(y_predKN)[0])"
   ]
  },
  {
   "cell_type": "markdown",
   "metadata": {},
   "source": [
    "### Matriz de confusion"
   ]
  },
  {
   "cell_type": "code",
   "execution_count": 46,
   "metadata": {},
   "outputs": [
    {
     "name": "stdout",
     "output_type": "stream",
     "text": [
      "[[1040   74]\n",
      " [  82   40]]\n",
      "AxesSubplot(0.125,0.125;0.62x0.755)\n"
     ]
    },
    {
     "data": {
      "image/png": "[encoded data removed]",
      "text/plain": [
       "<Figure size 432x288 with 2 Axes>"
      ]
     },
     "metadata": {
      "needs_background": "light"
     },
     "output_type": "display_data"
    }
   ],
   "source": [
    "for i in clsfier.confusion_mtrx(y_predKN):\n",
    "    print(i)\n",
    "    "
   ]
  },
  {
   "cell_type": "code",
   "execution_count": 49,
   "metadata": {},
   "outputs": [
    {
     "data": {
      "image/png": "[encoded data removed]",
      "text/plain": [
       "<Figure size 432x288 with 1 Axes>"
      ]
     },
     "metadata": {
      "needs_background": "light"
     },
     "output_type": "display_data"
    },
    {
     "name": "stdout",
     "output_type": "stream",
     "text": [
      "0.6307207817052711\n"
     ]
    }
   ],
   "source": [
    "clsfier.AUC_ROC(y_predKN)"
   ]
  },
  {
   "cell_type": "markdown",
   "metadata": {},
   "source": [
    "---\n",
    "## Linear SVM"
   ]
  },
  {
   "cell_type": "code",
   "execution_count": 38,
   "metadata": {},
   "outputs": [],
   "source": [
    "# Linear SVM\n",
    "clf = SVC(kernel=\"linear\", C=0.025)\n",
    "clf.fit(X_entrenamiento,y_entrenamiento)\n",
    "y_predLSVM = clf.predict(X_test)"
   ]
  },
  {
   "cell_type": "markdown",
   "metadata": {},
   "source": [
    "### Desempeño del clasificador"
   ]
  },
  {
   "cell_type": "code",
   "execution_count": 39,
   "metadata": {
    "scrolled": true
   },
   "outputs": [
    {
     "name": "stdout",
     "output_type": "stream",
     "text": [
      "              precision    recall  f1-score   support\n",
      "\n",
      "          no       0.93      0.97      0.95      1114\n",
      "         yes       0.60      0.35      0.44       122\n",
      "\n",
      "   micro avg       0.91      0.91      0.91      1236\n",
      "   macro avg       0.76      0.66      0.70      1236\n",
      "weighted avg       0.90      0.91      0.90      1236\n",
      "\n",
      "Accuracy: 0.912621359223301\n",
      "\n",
      "Error:  0.08737864077669899\n"
     ]
    }
   ],
   "source": [
    "# El recall de la clase positiva es sensitivity\n",
    "# El recall de la clase negativa es specificity\n",
    "target_names = ['no', 'yes']\n",
    "print(classification_report(y_test, y_predLSVM, target_names=target_names))\n",
    "print(\"Accuracy: \" + str(accuracy_score(y_test, y_predLSVM))+\"\\n\")\n",
    "print(\"Error: \", 1-accuracy_score(y_test, y_predLSVM))"
   ]
  },
  {
   "cell_type": "markdown",
   "metadata": {},
   "source": [
    "### Matriz de confusion"
   ]
  },
  {
   "cell_type": "code",
   "execution_count": 40,
   "metadata": {},
   "outputs": [
    {
     "name": "stdout",
     "output_type": "stream",
     "text": [
      "[[1085   29]\n",
      " [  79   43]]\n"
     ]
    },
    {
     "data": {
      "image/png": "[encoded data removed]",
      "text/plain": [
       "<Figure size 432x288 with 2 Axes>"
      ]
     },
     "metadata": {
      "needs_background": "light"
     },
     "output_type": "display_data"
    }
   ],
   "source": [
    "# Matriz de confusion\n",
    "print(confusion_matrix(y_test, y_predLSVM))\n",
    "sns.heatmap(confusion_matrix(y_test, y_predLSVM));"
   ]
  },
  {
   "cell_type": "code",
   "execution_count": 42,
   "metadata": {},
   "outputs": [
    {
     "data": {
      "image/png": "[encoded data removed]",
      "text/plain": [
       "<Figure size 432x288 with 1 Axes>"
      ]
     },
     "metadata": {
      "needs_background": "light"
     },
     "output_type": "display_data"
    },
    {
     "name": "stdout",
     "output_type": "stream",
     "text": [
      "0.6632133502074933\n"
     ]
    }
   ],
   "source": [
    "## Curva ROC (tpr: true positive rates, fpr: false positive rates)\n",
    "## AUC (Area Under Curve)\n",
    "\n",
    "fpr, tpr, _ = roc_curve(y_test, y_predLSVM)\n",
    "\n",
    "plt.figure()\n",
    "lw = 2\n",
    "plt.plot(fpr, tpr, color='darkorange',\n",
    "         lw=lw, label='ROC curve')\n",
    "plt.plot([0, 1], [0, 1], color='navy', lw=lw, linestyle='--')\n",
    "plt.xlim([0.0, 1.0])\n",
    "plt.ylim([0.0, 1.05])\n",
    "plt.xlabel('False Positive Rate')\n",
    "plt.ylabel('True Positive Rate')\n",
    "plt.title('Receiver operating characteristic example')\n",
    "plt.legend(loc=\"lower right\")\n",
    "plt.show()\n",
    "\n",
    "print(roc_auc_score(y_test, y_predLSVM))"
   ]
  },
  {
   "cell_type": "markdown",
   "metadata": {},
   "source": [
    "---\n",
    "## RBF SVM"
   ]
  },
  {
   "cell_type": "code",
   "execution_count": 46,
   "metadata": {},
   "outputs": [],
   "source": [
    "# RBF SVM\n",
    "clf = SVC(gamma=2, C=1)\n",
    "clf.fit(X_entrenamiento,y_entrenamiento)\n",
    "y_predLRBF = clf.predict(X_test)"
   ]
  },
  {
   "cell_type": "markdown",
   "metadata": {},
   "source": [
    "### Desempeño del clasificador"
   ]
  },
  {
   "cell_type": "code",
   "execution_count": 47,
   "metadata": {
    "scrolled": true
   },
   "outputs": [
    {
     "name": "stdout",
     "output_type": "stream",
     "text": [
      "              precision    recall  f1-score   support\n",
      "\n",
      "          no       0.90      1.00      0.95      1114\n",
      "         yes       0.00      0.00      0.00       122\n",
      "\n",
      "   micro avg       0.90      0.90      0.90      1236\n",
      "   macro avg       0.45      0.50      0.47      1236\n",
      "weighted avg       0.81      0.90      0.85      1236\n",
      "\n",
      "Accuracy: 0.901294498381877\n",
      "\n",
      "Error:  0.09870550161812297\n"
     ]
    },
    {
     "name": "stderr",
     "output_type": "stream",
     "text": [
      "/home/sebastian/.local/lib/python3.6/site-packages/sklearn/metrics/classification.py:1143: UndefinedMetricWarning: Precision and F-score are ill-defined and being set to 0.0 in labels with no predicted samples.\n",
      "  'precision', 'predicted', average, warn_for)\n"
     ]
    }
   ],
   "source": [
    "# El recall de la clase positiva es sensitivity\n",
    "# El recall de la clase negativa es specificity\n",
    "target_names = ['no', 'yes']\n",
    "print(classification_report(y_test, y_predLRBF, target_names=target_names))\n",
    "print(\"Accuracy: \" + str(accuracy_score(y_test, y_predLRBF))+\"\\n\")\n",
    "print(\"Error: \", 1-accuracy_score(y_test, y_predLRBF))"
   ]
  },
  {
   "cell_type": "markdown",
   "metadata": {},
   "source": [
    "### Matriz de confusion"
   ]
  },
  {
   "cell_type": "code",
   "execution_count": 48,
   "metadata": {},
   "outputs": [
    {
     "name": "stdout",
     "output_type": "stream",
     "text": [
      "[[1114    0]\n",
      " [ 122    0]]\n"
     ]
    },
    {
     "data": {
      "image/png": "[encoded data removed]",
      "text/plain": [
       "<Figure size 432x288 with 2 Axes>"
      ]
     },
     "metadata": {
      "needs_background": "light"
     },
     "output_type": "display_data"
    }
   ],
   "source": [
    "# Matriz de confusion\n",
    "print(confusion_matrix(y_test, y_predLRBF))\n",
    "sns.heatmap(confusion_matrix(y_test, y_predLRBF));"
   ]
  },
  {
   "cell_type": "code",
   "execution_count": 49,
   "metadata": {},
   "outputs": [
    {
     "data": {
      "image/png": "[encoded data removed]",
      "text/plain": [
       "<Figure size 432x288 with 1 Axes>"
      ]
     },
     "metadata": {
      "needs_background": "light"
     },
     "output_type": "display_data"
    },
    {
     "name": "stdout",
     "output_type": "stream",
     "text": [
      "0.5\n"
     ]
    }
   ],
   "source": [
    "## Curva ROC (tpr: true positive rates, fpr: false positive rates)\n",
    "## AUC (Area Under Curve)\n",
    "\n",
    "fpr, tpr, _ = roc_curve(y_test, y_predLRBF)\n",
    "\n",
    "plt.figure()\n",
    "lw = 2\n",
    "plt.plot(fpr, tpr, color='darkorange',\n",
    "         lw=lw, label='ROC curve')\n",
    "plt.plot([0, 1], [0, 1], color='navy', lw=lw, linestyle='--')\n",
    "plt.xlim([0.0, 1.0])\n",
    "plt.ylim([0.0, 1.05])\n",
    "plt.xlabel('False Positive Rate')\n",
    "plt.ylabel('True Positive Rate')\n",
    "plt.title('Receiver operating characteristic example')\n",
    "plt.legend(loc=\"lower right\")\n",
    "plt.show()\n",
    "\n",
    "print(roc_auc_score(y_test, y_predLRBF))"
   ]
  },
  {
   "cell_type": "markdown",
   "metadata": {},
   "source": [
    "---\n",
    "## Decision Tree"
   ]
  },
  {
   "cell_type": "code",
   "execution_count": 52,
   "metadata": {},
   "outputs": [],
   "source": [
    "# DecisionTreeClassifier\n",
    "clf2 = tree.DecisionTreeClassifier(max_depth=5)\n",
    "clf2.fit(X_entrenamiento,y_entrenamiento)\n",
    "y_predTREE = clf2.predict(X_test)"
   ]
  },
  {
   "cell_type": "markdown",
   "metadata": {},
   "source": [
    "### Desempeño del clasificador"
   ]
  },
  {
   "cell_type": "code",
   "execution_count": 53,
   "metadata": {
    "scrolled": true
   },
   "outputs": [
    {
     "name": "stdout",
     "output_type": "stream",
     "text": [
      "              precision    recall  f1-score   support\n",
      "\n",
      "          no       0.93      0.96      0.94      1114\n",
      "         yes       0.48      0.34      0.40       122\n",
      "\n",
      "   micro avg       0.90      0.90      0.90      1236\n",
      "   macro avg       0.71      0.65      0.67      1236\n",
      "weighted avg       0.89      0.90      0.89      1236\n",
      "\n",
      "Accuracy: 0.8988673139158576\n",
      "\n",
      "Error:  0.10113268608414239\n"
     ]
    }
   ],
   "source": [
    "# El recall de la clase positiva es sensitivity\n",
    "# El recall de la clase negativa es specificity\n",
    "target_names = ['no', 'yes']\n",
    "print(classification_report(y_test, y_predTREE, target_names=target_names))\n",
    "print(\"Accuracy: \" + str(accuracy_score(y_test, y_predTREE))+\"\\n\")\n",
    "print(\"Error: \", 1-accuracy_score(y_test, y_predTREE))"
   ]
  },
  {
   "cell_type": "markdown",
   "metadata": {},
   "source": [
    "### Matriz de confusion"
   ]
  },
  {
   "cell_type": "code",
   "execution_count": 54,
   "metadata": {},
   "outputs": [
    {
     "name": "stdout",
     "output_type": "stream",
     "text": [
      "[[1070   44]\n",
      " [  81   41]]\n"
     ]
    },
    {
     "data": {
      "image/png": "[encoded data removed]",
      "text/plain": [
       "<Figure size 432x288 with 2 Axes>"
      ]
     },
     "metadata": {
      "needs_background": "light"
     },
     "output_type": "display_data"
    }
   ],
   "source": [
    "# Matriz de confusion\n",
    "print(confusion_matrix(y_test, y_predTREE))\n",
    "sns.heatmap(confusion_matrix(y_test, y_predTREE));"
   ]
  },
  {
   "cell_type": "code",
   "execution_count": 55,
   "metadata": {},
   "outputs": [
    {
     "data": {
      "image/png": "[encoded data removed]",
      "text/plain": [
       "<Figure size 432x288 with 1 Axes>"
      ]
     },
     "metadata": {
      "needs_background": "light"
     },
     "output_type": "display_data"
    },
    {
     "name": "stdout",
     "output_type": "stream",
     "text": [
      "0.6482841333843482\n"
     ]
    }
   ],
   "source": [
    "## Curva ROC (tpr: true positive rates, fpr: false positive rates)\n",
    "## AUC (Area Under Curve)\n",
    "\n",
    "fpr, tpr, _ = roc_curve(y_test, y_predTREE)\n",
    "\n",
    "plt.figure()\n",
    "lw = 2\n",
    "plt.plot(fpr, tpr, color='darkorange',\n",
    "         lw=lw, label='ROC curve')\n",
    "plt.plot([0, 1], [0, 1], color='navy', lw=lw, linestyle='--')\n",
    "plt.xlim([0.0, 1.0])\n",
    "plt.ylim([0.0, 1.05])\n",
    "plt.xlabel('False Positive Rate')\n",
    "plt.ylabel('True Positive Rate')\n",
    "plt.title('Receiver operating characteristic example')\n",
    "plt.legend(loc=\"lower right\")\n",
    "plt.show()\n",
    "\n",
    "print(roc_auc_score(y_test, y_predTREE))"
   ]
  },
  {
   "cell_type": "markdown",
   "metadata": {},
   "source": [
    "---\n",
    "##  Random Forest"
   ]
  },
  {
   "cell_type": "code",
   "execution_count": 58,
   "metadata": {},
   "outputs": [],
   "source": [
    "# Random Forest\n",
    "rf = RandomForestClassifier(max_depth=5, n_estimators=10, max_features=1)\n",
    "rf.fit(X_entrenamiento,y_entrenamiento)\n",
    "y_predRF = rf.predict(X_test)"
   ]
  },
  {
   "cell_type": "markdown",
   "metadata": {},
   "source": [
    "### Desempeño del clasificador"
   ]
  },
  {
   "cell_type": "code",
   "execution_count": 59,
   "metadata": {
    "scrolled": true
   },
   "outputs": [
    {
     "name": "stdout",
     "output_type": "stream",
     "text": [
      "              precision    recall  f1-score   support\n",
      "\n",
      "          no       0.91      1.00      0.95      1114\n",
      "         yes       0.58      0.06      0.10       122\n",
      "\n",
      "   micro avg       0.90      0.90      0.90      1236\n",
      "   macro avg       0.74      0.53      0.53      1236\n",
      "weighted avg       0.87      0.90      0.87      1236\n",
      "\n",
      "Accuracy: 0.9029126213592233\n",
      "\n",
      "Error:  0.09708737864077666\n"
     ]
    }
   ],
   "source": [
    "# El recall de la clase positiva es sensitivity\n",
    "# El recall de la clase negativa es specificity\n",
    "target_names = ['no', 'yes']\n",
    "print(classification_report(y_test, y_predRF, target_names=target_names))\n",
    "print(\"Accuracy: \" + str(accuracy_score(y_test, y_predRF))+\"\\n\")\n",
    "print(\"Error: \", 1-accuracy_score(y_test, y_predRF))"
   ]
  },
  {
   "cell_type": "markdown",
   "metadata": {},
   "source": [
    "### Matriz de confusion"
   ]
  },
  {
   "cell_type": "code",
   "execution_count": 60,
   "metadata": {},
   "outputs": [
    {
     "name": "stdout",
     "output_type": "stream",
     "text": [
      "[[1109    5]\n",
      " [ 115    7]]\n"
     ]
    },
    {
     "data": {
      "image/png": "[encoded data removed]",
      "text/plain": [
       "<Figure size 432x288 with 2 Axes>"
      ]
     },
     "metadata": {
      "needs_background": "light"
     },
     "output_type": "display_data"
    }
   ],
   "source": [
    "# Matriz de confusion\n",
    "print(confusion_matrix(y_test, y_predRF))\n",
    "sns.heatmap(confusion_matrix(y_test, y_predRF));"
   ]
  },
  {
   "cell_type": "code",
   "execution_count": 61,
   "metadata": {},
   "outputs": [
    {
     "data": {
      "image/png": "[encoded data removed]",
      "text/plain": [
       "<Figure size 432x288 with 1 Axes>"
      ]
     },
     "metadata": {
      "needs_background": "light"
     },
     "output_type": "display_data"
    },
    {
     "name": "stdout",
     "output_type": "stream",
     "text": [
      "0.5264443594196074\n"
     ]
    }
   ],
   "source": [
    "## Curva ROC (tpr: true positive rates, fpr: false positive rates)\n",
    "## AUC (Area Under Curve)\n",
    "\n",
    "fpr, tpr, _ = roc_curve(y_test, y_predRF)\n",
    "\n",
    "plt.figure()\n",
    "lw = 2\n",
    "plt.plot(fpr, tpr, color='darkorange',\n",
    "         lw=lw, label='ROC curve')\n",
    "plt.plot([0, 1], [0, 1], color='navy', lw=lw, linestyle='--')\n",
    "plt.xlim([0.0, 1.0])\n",
    "plt.ylim([0.0, 1.05])\n",
    "plt.xlabel('False Positive Rate')\n",
    "plt.ylabel('True Positive Rate')\n",
    "plt.title('Receiver operating characteristic example')\n",
    "plt.legend(loc=\"lower right\")\n",
    "plt.show()\n",
    "\n",
    "print(roc_auc_score(y_test, y_predRF))"
   ]
  },
  {
   "cell_type": "markdown",
   "metadata": {},
   "source": [
    "---\n",
    "##  Neural Net"
   ]
  },
  {
   "cell_type": "code",
   "execution_count": 63,
   "metadata": {},
   "outputs": [],
   "source": [
    "# Neural Net\n",
    "net = MLPClassifier(alpha=1)\n",
    "net.fit(X_entrenamiento,y_entrenamiento)\n",
    "y_predMLP = net.predict(X_test)"
   ]
  },
  {
   "cell_type": "markdown",
   "metadata": {},
   "source": [
    "### Desempeño del clasificador"
   ]
  },
  {
   "cell_type": "code",
   "execution_count": 64,
   "metadata": {
    "scrolled": true
   },
   "outputs": [
    {
     "name": "stdout",
     "output_type": "stream",
     "text": [
      "              precision    recall  f1-score   support\n",
      "\n",
      "          no       0.93      0.96      0.95      1114\n",
      "         yes       0.49      0.35      0.41       122\n",
      "\n",
      "   micro avg       0.90      0.90      0.90      1236\n",
      "   macro avg       0.71      0.66      0.68      1236\n",
      "weighted avg       0.89      0.90      0.89      1236\n",
      "\n",
      "Accuracy: 0.8996763754045307\n",
      "\n",
      "Error:  0.10032362459546929\n"
     ]
    }
   ],
   "source": [
    "# El recall de la clase positiva es sensitivity\n",
    "# El recall de la clase negativa es specificity\n",
    "target_names = ['no', 'yes']\n",
    "print(classification_report(y_test, y_predMLP, target_names=target_names))\n",
    "print(\"Accuracy: \" + str(accuracy_score(y_test, y_predMLP))+\"\\n\")\n",
    "print(\"Error: \", 1-accuracy_score(y_test, y_predMLP))"
   ]
  },
  {
   "cell_type": "markdown",
   "metadata": {},
   "source": [
    "### Matriz de confusion"
   ]
  },
  {
   "cell_type": "code",
   "execution_count": 65,
   "metadata": {},
   "outputs": [
    {
     "name": "stdout",
     "output_type": "stream",
     "text": [
      "[[1069   45]\n",
      " [  79   43]]\n"
     ]
    },
    {
     "data": {
      "image/png": "[encoded data removed]",
      "text/plain": [
       "<Figure size 432x288 with 2 Axes>"
      ]
     },
     "metadata": {
      "needs_background": "light"
     },
     "output_type": "display_data"
    }
   ],
   "source": [
    "# Matriz de confusion\n",
    "print(confusion_matrix(y_test, y_predMLP))\n",
    "sns.heatmap(confusion_matrix(y_test, y_predMLP));"
   ]
  },
  {
   "cell_type": "code",
   "execution_count": 66,
   "metadata": {},
   "outputs": [
    {
     "data": {
      "image/png": "[encoded data removed]",
      "text/plain": [
       "<Figure size 432x288 with 1 Axes>"
      ]
     },
     "metadata": {
      "needs_background": "light"
     },
     "output_type": "display_data"
    },
    {
     "name": "stdout",
     "output_type": "stream",
     "text": [
      "0.6560320216617124\n"
     ]
    }
   ],
   "source": [
    "## Curva ROC (tpr: true positive rates, fpr: false positive rates)\n",
    "## AUC (Area Under Curve)\n",
    "\n",
    "fpr, tpr, _ = roc_curve(y_test, y_predMLP)\n",
    "\n",
    "plt.figure()\n",
    "lw = 2\n",
    "plt.plot(fpr, tpr, color='darkorange',\n",
    "         lw=lw, label='ROC curve')\n",
    "plt.plot([0, 1], [0, 1], color='navy', lw=lw, linestyle='--')\n",
    "plt.xlim([0.0, 1.0])\n",
    "plt.ylim([0.0, 1.05])\n",
    "plt.xlabel('False Positive Rate')\n",
    "plt.ylabel('True Positive Rate')\n",
    "plt.title('Receiver operating characteristic example')\n",
    "plt.legend(loc=\"lower right\")\n",
    "plt.show()\n",
    "\n",
    "print(roc_auc_score(y_test, y_predMLP))"
   ]
  },
  {
   "cell_type": "markdown",
   "metadata": {},
   "source": [
    "---\n",
    "## Clasificador Linear Discriminant Analysis"
   ]
  },
  {
   "cell_type": "code",
   "execution_count": 9,
   "metadata": {},
   "outputs": [],
   "source": [
    "# LDA\n",
    "clasificador1 = LinearDiscriminantAnalysis()\n",
    "clasificador1.fit(X_entrenamiento,y_entrenamiento)\n",
    "y_pred1 = clasificador1.predict(X_test)"
   ]
  },
  {
   "cell_type": "markdown",
   "metadata": {},
   "source": [
    "### Desempeño del clasificador"
   ]
  },
  {
   "cell_type": "code",
   "execution_count": 10,
   "metadata": {
    "scrolled": true
   },
   "outputs": [
    {
     "name": "stdout",
     "output_type": "stream",
     "text": [
      "              precision    recall  f1-score   support\n",
      "\n",
      "          no       0.94      0.94      0.94      1114\n",
      "         yes       0.47      0.46      0.47       122\n",
      "\n",
      "   micro avg       0.90      0.90      0.90      1236\n",
      "   macro avg       0.71      0.70      0.70      1236\n",
      "weighted avg       0.89      0.90      0.90      1236\n",
      "\n",
      "Accuracy: 0.8964401294498382\n",
      "\n",
      "Error:  0.1035598705501618\n"
     ]
    }
   ],
   "source": [
    "# El recall de la clase positiva es sensitivity\n",
    "# El recall de la clase negativa es specificity\n",
    "target_names = ['no', 'yes']\n",
    "print(classification_report(y_test, y_pred1, target_names=target_names))\n",
    "print(\"Accuracy: \" + str(accuracy_score(y_test, y_pred1))+\"\\n\")\n",
    "print(\"Error: \", 1-accuracy_score(y_test, y_pred1))"
   ]
  },
  {
   "cell_type": "markdown",
   "metadata": {},
   "source": [
    "### Matriz de confusion"
   ]
  },
  {
   "cell_type": "code",
   "execution_count": 11,
   "metadata": {},
   "outputs": [
    {
     "name": "stdout",
     "output_type": "stream",
     "text": [
      "[[1052   62]\n",
      " [  66   56]]\n"
     ]
    },
    {
     "data": {
      "image/png": "[encoded data removed]",
      "text/plain": [
       "<Figure size 432x288 with 2 Axes>"
      ]
     },
     "metadata": {
      "needs_background": "light"
     },
     "output_type": "display_data"
    }
   ],
   "source": [
    "# Matriz de confusion\n",
    "print(confusion_matrix(y_test, y_pred1))\n",
    "sns.heatmap(confusion_matrix(y_test, y_pred1));"
   ]
  },
  {
   "cell_type": "code",
   "execution_count": 44,
   "metadata": {},
   "outputs": [
    {
     "data": {
      "image/png": "[encoded data removed]",
      "text/plain": [
       "<Figure size 432x288 with 1 Axes>"
      ]
     },
     "metadata": {
      "needs_background": "light"
     },
     "output_type": "display_data"
    },
    {
     "name": "stdout",
     "output_type": "stream",
     "text": [
      "0.7016805486064103\n"
     ]
    }
   ],
   "source": [
    "## Curva ROC (tpr: true positive rates, fpr: false positive rates)\n",
    "## AUC (Area Under Curve)\n",
    "\n",
    "fpr, tpr, _ = roc_curve(y_test, y_pred1)\n",
    "\n",
    "plt.figure()\n",
    "lw = 2\n",
    "plt.plot(fpr, tpr, color='darkorange',\n",
    "         lw=lw, label='ROC curve')\n",
    "plt.plot([0, 1], [0, 1], color='navy', lw=lw, linestyle='--')\n",
    "plt.xlim([0.0, 1.0])\n",
    "plt.ylim([0.0, 1.05])\n",
    "plt.xlabel('False Positive Rate')\n",
    "plt.ylabel('True Positive Rate')\n",
    "plt.title('Receiver operating characteristic example')\n",
    "plt.legend(loc=\"lower right\")\n",
    "plt.show()\n",
    "\n",
    "print(roc_auc_score(y_test, y_pred1))"
   ]
  },
  {
   "cell_type": "markdown",
   "metadata": {},
   "source": [
    "---\n",
    "## Clasificador Quadratic Discriminant Analysis"
   ]
  },
  {
   "cell_type": "code",
   "execution_count": 30,
   "metadata": {},
   "outputs": [],
   "source": [
    "# QDA\n",
    "clasificador2 = QuadraticDiscriminantAnalysis()\n",
    "clasificador2.fit(X_entrenamiento,y_entrenamiento)\n",
    "y_pred2 = clasificador2.predict(X_test)"
   ]
  },
  {
   "cell_type": "markdown",
   "metadata": {},
   "source": [
    "### Desempeño del clasificador"
   ]
  },
  {
   "cell_type": "code",
   "execution_count": 31,
   "metadata": {
    "scrolled": false
   },
   "outputs": [
    {
     "name": "stdout",
     "output_type": "stream",
     "text": [
      "              precision    recall  f1-score   support\n",
      "\n",
      "          no       0.94      0.92      0.93      1114\n",
      "         yes       0.37      0.43      0.40       122\n",
      "\n",
      "   micro avg       0.87      0.87      0.87      1236\n",
      "   macro avg       0.66      0.68      0.66      1236\n",
      "weighted avg       0.88      0.87      0.88      1236\n",
      "\n",
      "Accuracy: 0.872168284789644\n",
      "\n",
      "Error:  0.12783171521035597\n"
     ]
    }
   ],
   "source": [
    "# El recall de la clase positiva es sensitivity\n",
    "# El recall de la clase negativa es specificity\n",
    "target_names = ['no', 'yes']\n",
    "print(classification_report(y_test, y_pred2, target_names=target_names))\n",
    "print(\"Accuracy: \" + str(accuracy_score(y_test, y_pred2))+\"\\n\")\n",
    "print(\"Error: \", 1-accuracy_score(y_test, y_pred2))"
   ]
  },
  {
   "cell_type": "markdown",
   "metadata": {},
   "source": [
    "### Matriz de confusion"
   ]
  },
  {
   "cell_type": "code",
   "execution_count": 32,
   "metadata": {},
   "outputs": [
    {
     "name": "stdout",
     "output_type": "stream",
     "text": [
      "[[1025   89]\n",
      " [  69   53]]\n"
     ]
    },
    {
     "data": {
      "image/png": "[encoded data removed]",
      "text/plain": [
       "<Figure size 432x288 with 2 Axes>"
      ]
     },
     "metadata": {
      "needs_background": "light"
     },
     "output_type": "display_data"
    }
   ],
   "source": [
    "# Matriz de confusion\n",
    "print(confusion_matrix(y_test, y_pred2))\n",
    "sns.heatmap(confusion_matrix(y_test, y_pred2));"
   ]
  },
  {
   "cell_type": "code",
   "execution_count": 45,
   "metadata": {},
   "outputs": [
    {
     "data": {
      "image/png": "[encoded data removed]",
      "text/plain": [
       "<Figure size 432x288 with 1 Axes>"
      ]
     },
     "metadata": {
      "needs_background": "light"
     },
     "output_type": "display_data"
    },
    {
     "name": "stdout",
     "output_type": "stream",
     "text": [
      "0.6772669747181917\n"
     ]
    }
   ],
   "source": [
    "## Curva ROC (tpr: true positive rates, fpr: false positive rates)\n",
    "## AUC (Area Under Curve)\n",
    "\n",
    "fpr, tpr, _ = roc_curve(y_test, y_pred2)\n",
    "\n",
    "plt.figure()\n",
    "lw = 2\n",
    "plt.plot(fpr, tpr, color='darkorange',\n",
    "         lw=lw, label='ROC curve')\n",
    "plt.plot([0, 1], [0, 1], color='navy', lw=lw, linestyle='--')\n",
    "plt.xlim([0.0, 1.0])\n",
    "plt.ylim([0.0, 1.05])\n",
    "plt.xlabel('False Positive Rate')\n",
    "plt.ylabel('True Positive Rate')\n",
    "plt.title('Receiver operating characteristic example')\n",
    "plt.legend(loc=\"lower right\")\n",
    "plt.show()\n",
    "\n",
    "print(roc_auc_score(y_test, y_pred2))"
   ]
  },
  {
   "cell_type": "markdown",
   "metadata": {},
   "source": [
    "## Conclusion\n",
    "\n",
    "Random forest y RBF SVM tienen curvas ROC mas ajustada a $y=x$, y por lo tanto se comporta peor."
   ]
  }
 ],
 "metadata": {
  "kernelspec": {
   "display_name": "Python 3",
   "language": "python",
   "name": "python3"
  },
  "language_info": {
   "codemirror_mode": {
    "name": "ipython",
    "version": 3
   },
   "file_extension": ".py",
   "mimetype": "text/x-python",
   "name": "python",
   "nbconvert_exporter": "python",
   "pygments_lexer": "ipython3",
   "version": "3.6.7"
  }
 },
 "nbformat": 4,
 "nbformat_minor": 2
}
